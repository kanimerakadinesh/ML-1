{
  "nbformat": 4,
  "nbformat_minor": 0,
  "metadata": {
    "colab": {
      "provenance": [],
      "authorship_tag": "ABX9TyMQ9Ned5RrpcdrRPeT4IRFI",
      "include_colab_link": true
    },
    "kernelspec": {
      "name": "python3",
      "display_name": "Python 3"
    },
    "language_info": {
      "name": "python"
    }
  },
  "cells": [
    {
      "cell_type": "markdown",
      "metadata": {
        "id": "view-in-github",
        "colab_type": "text"
      },
      "source": [
        "<a href=\"https://colab.research.google.com/github/kanimerakadinesh/ML-1/blob/main/Untitled7.ipynb\" target=\"_parent\"><img src=\"https://colab.research.google.com/assets/colab-badge.svg\" alt=\"Open In Colab\"/></a>"
      ]
    },
    {
      "cell_type": "code",
      "source": [
        "import pandas as pd\n",
        "import numpy as np\n",
        "data=pd.read_csv('/content/ws.csv')\n",
        "data\n",
        "concepts=np.array(data)[:,:-1]\n",
        "concepts\n",
        "target=np.array(data)[:,-1]\n",
        "target\n",
        "\n"
      ],
      "metadata": {
        "colab": {
          "base_uri": "https://localhost:8080/"
        },
        "id": "XVDE16dJXxDJ",
        "outputId": "72c05751-9526-4774-e899-4279dabc7496"
      },
      "execution_count": 31,
      "outputs": [
        {
          "output_type": "execute_result",
          "data": {
            "text/plain": [
              "array(['Yes', 'No', 'Yes'], dtype=object)"
            ]
          },
          "metadata": {},
          "execution_count": 31
        }
      ]
    },
    {
      "cell_type": "code",
      "source": [
        "def train(con,tar):\n",
        "  for i,val in enumerate(tar):\n",
        "    if val=='Yes':\n",
        "      specific_h=con[i].copy()\n",
        "      break\n",
        "      for i,val in enumerate(con):\n",
        "        if tar[i]=='Yes':\n",
        "          for x in range(len(specific_h)):\n",
        "            if val[x]!=specific_h[x]:\n",
        "              specific_h[x]='?'\n",
        "            else:\n",
        "              pass\n",
        "        return specific_h\n",
        "print(train(concepts,target))"
      ],
      "metadata": {
        "colab": {
          "base_uri": "https://localhost:8080/"
        },
        "id": "cOS5WH0jabPR",
        "outputId": "7e6e1962-06e7-4c0e-b4a6-e87089f75e1a"
      },
      "execution_count": 32,
      "outputs": [
        {
          "output_type": "stream",
          "name": "stdout",
          "text": [
            "None\n"
          ]
        }
      ]
    },
    {
      "cell_type": "code",
      "source": [
        "import pandas as pd\n",
        "import numpy as np\n",
        "data=pd.read_csv('/content/ws.csv')\n",
        "#data\n",
        "concepts=np.array(data)[:,:-1]\n",
        "#concepts\n",
        "target=np.array(data)[:,-1]\n",
        "#target\n",
        "def train(con,tar):\n",
        "  for i,val in enumerate(tar):\n",
        "    if val=='Yes':\n",
        "      specific_h=con[i].copy()\n",
        "      break\n",
        "  for i,val in enumerate(con):\n",
        "    if tar[i]=='Yes': # 'yes' was changed to 'Yes' to match values in target\n",
        "      for x in range(len(specific_h)):\n",
        "        if val[x]!=specific_h[x]:\n",
        "          specific_h[x]='?'\n",
        "        else:\n",
        "          pass\n",
        "  return specific_h\n",
        "print(\"The final hypothesis is:\",train(concepts,target)) # 'd' was changed to 'concepts'"
      ],
      "metadata": {
        "colab": {
          "base_uri": "https://localhost:8080/"
        },
        "id": "wEq6CxtSdPXq",
        "outputId": "fa38dfd9-5031-4616-f621-427221d00356"
      },
      "execution_count": 33,
      "outputs": [
        {
          "output_type": "stream",
          "name": "stdout",
          "text": [
            "The final hypothesis is: None\n"
          ]
        }
      ]
    },
    {
      "cell_type": "code",
      "source": [
        "import pandas as pd\n",
        "import numpy as np\n",
        "data=pd.read_csv('/content/ws.csv')\n",
        "#data\n",
        "concepts=np.array(data)[:,:-1]\n",
        "#concepts\n",
        "target=np.array(data)[:,-1]\n",
        "#target\n",
        "def train(con,tar):\n",
        "  for i,val in enumerate(tar):\n",
        "    if val=='Yes':\n",
        "      specific_h=con[i].copy()\n",
        "      break\n",
        "  for i,val in enumerate(con):\n",
        "    if tar[i]=='Yes': # 'yes' was changed to 'Yes' to match values in target\n",
        "      for x in range(len(specific_h)):\n",
        "        if val[x]!=specific_h[x]:\n",
        "          specific_h[x]='?'\n",
        "        else:\n",
        "          pass\n",
        "  return specific_h\n",
        "print(\"The final hypothesis is:\",train(concepts,target)) # 'd' was changed to 'concepts'"
      ],
      "metadata": {
        "colab": {
          "base_uri": "https://localhost:8080/"
        },
        "id": "j9bn08J7dpLX",
        "outputId": "a8c79fcc-df54-4cff-e3f5-40397890d6da"
      },
      "execution_count": 34,
      "outputs": [
        {
          "output_type": "stream",
          "name": "stdout",
          "text": [
            "The final hypothesis is: ['Sunny' 'Warm' 'High' 'Strong' '?' '?']\n"
          ]
        }
      ]
    }
  ]
}